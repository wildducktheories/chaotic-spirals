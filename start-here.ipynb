{
 "cells": [
  {
   "cell_type": "code",
   "execution_count": null,
   "metadata": {},
   "outputs": [],
   "source": [
    "import math\n",
    "import matplotlib.pyplot as plt\n",
    "import numpy as np\n",
    "import json\n",
    "\n",
    "from spirals import MatrixState, Vectors, VectorState\n",
    "from spirals import average_position, plot_G_for_all_N, spiral, plot_spiral"
   ]
  },
  {
   "cell_type": "code",
   "execution_count": null,
   "metadata": {},
   "outputs": [],
   "source": [
    "N=[6,31,12]\n",
    "N=[3,4,6,12,24,36]\n",
    "N=range(3, 26)\n",
    "N=[3,4,6,8,11,12,13,25,26,27,36,60,68,69,72,73,101]\n",
    "N=[3,4,6,12]\n",
    "N=[3,4,6,12,19]\n",
    "N=range(3, 26)\n",
    "N=[12]\n",
    "N=range(3, 26)\n",
    "\n",
    "PLOT=True\n",
    "SCATTER=True\n",
    "LENGTH_OVERRIDE=None\n",
    "TITLE_OVERRIDE=None\n",
    "INITIAL=None\n",
    "FILTER=None\n",
    "TRANSFORM=None\n",
    "VISITED=None"
   ]
  },
  {
   "cell_type": "code",
   "execution_count": null,
   "metadata": {},
   "outputs": [],
   "source": [
    "SUMMARY={\n",
    "    \"PLOT\":  PLOT,\n",
    "    \"SCATTER\": SCATTER,\n",
    "    \"LENGTH_OVERRIDE\": LENGTH_OVERRIDE,\n",
    "    \"TITLE_OVERRIDE\": TITLE_OVERRIDE,\n",
    "    \"INITIAL\": INITIAL is not None,\n",
    "    \"FILTER\": FILTER is not None,\n",
    "    \"TRANSFORM\": TRANSFORM is not None,\n",
    "    \"VISITED\": [e for e in VISITED or set()]\n",
    "}\n",
    "print(json.dumps(SUMMARY,indent=2))"
   ]
  },
  {
   "cell_type": "code",
   "execution_count": null,
   "metadata": {
    "scrolled": false
   },
   "outputs": [],
   "source": [
    "# plots n-sided \"spirals\"\n",
    "for n in N:\n",
    "    l=n**2 if n > 6 else n**2.7+1\n",
    "    l=l if not LENGTH_OVERRIDE else LENGTH_OVERRIDE\n",
    "    states=[e for e in spiral(n, length=l, initial=INITIAL, filter=FILTER, transform=TRANSFORM, visited=VISITED)]\n",
    "    points=[e.xy() for e in states]\n",
    "    plot_spiral(n, points, plot=PLOT, scatter=SCATTER, title=TITLE_OVERRIDE)"
   ]
  },
  {
   "cell_type": "code",
   "execution_count": null,
   "metadata": {},
   "outputs": [],
   "source": [
    "# plots n-sided \"spirals\"\n",
    "LENGTH_OVERRIDE=1728\n",
    "TRANSFORM=lambda s: s.xy()\n",
    "N=[8,9,12]\n",
    "GENERATOR=lambda n: (\n",
    "    spiral(\n",
    "        n, \n",
    "        length=LENGTH_OVERRIDE, \n",
    "        initial=INITIAL, \n",
    "        filter=FILTER, \n",
    "        transform=TRANSFORM, \n",
    "        visited=VISITED)\n",
    "    )\n",
    "\n",
    "plot_G_for_all_N(\n",
    "    \"evolution of spiral as a function of parameter n\",\n",
    "    GENERATOR, \n",
    "    N)"
   ]
  },
  {
   "cell_type": "code",
   "execution_count": null,
   "metadata": {
    "scrolled": false
   },
   "outputs": [],
   "source": [
    "# plots n-sided \"spirals\"\n",
    "LENGTH_OVERRIDE=1728\n",
    "TRANSFORM=lambda s: s.xy()\n",
    "GENERATOR=lambda n: average_position(\n",
    "    spiral(\n",
    "        n, \n",
    "        length=LENGTH_OVERRIDE, \n",
    "        initial=INITIAL, \n",
    "        filter=FILTER, \n",
    "        transform=TRANSFORM, \n",
    "        visited=VISITED)\n",
    "    )\n",
    "\n",
    "N=range(3,26)\n",
    "# N=filter(lambda n: n!=9, N)\n",
    "# N=filter(lambda n: n%2 == 1, N)\n",
    "# N=filter(lambda n: n not in [5,7,11,13],N)\n",
    "# N=[8,12,20,24,5,7,11,13,15]\n",
    "plot_G_for_all_N(\n",
    "    \"evolution of average position as length of spiral increases as a function of n\",\n",
    "    GENERATOR, \n",
    "    N)"
   ]
  },
  {
   "cell_type": "code",
   "execution_count": null,
   "metadata": {
    "scrolled": false
   },
   "outputs": [],
   "source": [
    "# plots n-sided \"spirals\"\n",
    "LENGTH_OVERRIDE=1728\n",
    "TRANSFORM=lambda s: s.xy()\n",
    "GENERATOR=lambda n: average_position(average_position(\n",
    "    spiral(\n",
    "        n, \n",
    "        length=LENGTH_OVERRIDE, \n",
    "        initial=INITIAL, \n",
    "        filter=FILTER, \n",
    "        transform=TRANSFORM, \n",
    "        visited=VISITED)\n",
    "    ))\n",
    "\n",
    "N=range(3,26)\n",
    "\n",
    "plot_G_for_all_N(\n",
    "    \"evolution of average of average position as length of spiral increases as a function of n\",\n",
    "    GENERATOR, \n",
    "    N)"
   ]
  },
  {
   "cell_type": "code",
   "execution_count": null,
   "metadata": {},
   "outputs": [],
   "source": []
  }
 ],
 "metadata": {
  "kernelspec": {
   "display_name": "Python 3",
   "language": "python",
   "name": "python3"
  },
  "language_info": {
   "codemirror_mode": {
    "name": "ipython",
    "version": 3
   },
   "file_extension": ".py",
   "mimetype": "text/x-python",
   "name": "python",
   "nbconvert_exporter": "python",
   "pygments_lexer": "ipython3",
   "version": "3.9.4"
  }
 },
 "nbformat": 4,
 "nbformat_minor": 5
}
