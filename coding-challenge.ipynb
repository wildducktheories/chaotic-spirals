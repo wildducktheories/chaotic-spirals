{
 "cells": [
  {
   "cell_type": "code",
   "execution_count": null,
   "id": "31307a9c",
   "metadata": {},
   "outputs": [],
   "source": [
    "import math\n",
    "import matplotlib.pyplot as plt\n",
    "import numpy as np\n",
    "import json\n",
    "\n",
    "from spirals import SpiralPlotter\n",
    "from spirals.SpiralPlotter import MatrixState, Vectors, VectorState"
   ]
  },
  {
   "cell_type": "code",
   "execution_count": null,
   "id": "6003371f",
   "metadata": {},
   "outputs": [],
   "source": [
    "soln=SpiralPlotter()\n",
    "N=range(3, 26)\n",
    "N=[12]\n",
    "N=[3,4,6,8,11,12,13,25,26,27,36,60,68,69,72,73,101]\n",
    "\n",
    "PLOT=True\n",
    "SCATTER=True\n",
    "LENGTH_OVERRIDE=None\n",
    "TITLE_OVERRIDE=None\n",
    "INITIAL=None\n",
    "FILTER=None\n",
    "TRANSFORM=lambda s: s\n",
    "\n",
    "#ID=lambda s: (tuple(np.matmul(s.vectors.x, s.p)),tuple(np.matmul(s.vectors.y, s.p)))\n",
    "#ID=lambda s: (tuple(np.mod(s.p, s.n)))\n",
    "#ID=lambda s: s.id()\n",
    "ID=None"
   ]
  },
  {
   "cell_type": "code",
   "execution_count": null,
   "id": "63fefe8d",
   "metadata": {},
   "outputs": [],
   "source": [
    "SUMMARY={\n",
    "    \"PLOT\":  PLOT,\n",
    "    \"SCATTER\": SCATTER,\n",
    "    \"LENGTH_OVERRIDE\": LENGTH_OVERRIDE,\n",
    "    \"TITLE_OVERRIDE\": TITLE_OVERRIDE,\n",
    "    \"INITIAL\": INITIAL is not None,\n",
    "    \"FILTER\": FILTER is not None,\n",
    "    \"TRANSFORM\": TRANSFORM is not None\n",
    "}\n",
    "print(json.dumps(SUMMARY,indent=2))"
   ]
  },
  {
   "cell_type": "code",
   "execution_count": null,
   "id": "03212ce6",
   "metadata": {
    "scrolled": false
   },
   "outputs": [],
   "source": [
    "# plots n-sided \"spirals\"\n",
    "for n in N:\n",
    "    l=n**2 if n > 6 else n**2.7+1\n",
    "    l=l if not LENGTH_OVERRIDE else LENGTH_OVERRIDE\n",
    "    states=[e for e in soln.spiral(n, length=l, initial=INITIAL, filter=FILTER, transform=TRANSFORM, id=ID)]\n",
    "    points=[e.xy() for e in states]\n",
    "    soln.plot_spiral(n, points, plot=PLOT, scatter=SCATTER, title=TITLE_OVERRIDE)"
   ]
  }
 ],
 "metadata": {
  "kernelspec": {
   "display_name": "Python 3",
   "language": "python",
   "name": "python3"
  },
  "language_info": {
   "codemirror_mode": {
    "name": "ipython",
    "version": 3
   },
   "file_extension": ".py",
   "mimetype": "text/x-python",
   "name": "python",
   "nbconvert_exporter": "python",
   "pygments_lexer": "ipython3",
   "version": "3.7.4"
  }
 },
 "nbformat": 4,
 "nbformat_minor": 5
}
