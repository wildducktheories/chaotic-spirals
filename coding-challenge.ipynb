{
 "cells": [
  {
   "cell_type": "code",
   "execution_count": null,
   "id": "31307a9c",
   "metadata": {},
   "outputs": [],
   "source": [
    "import math\n",
    "import matplotlib.pyplot as plt\n",
    "import numpy as np\n",
    "\n",
    "from spirals import SpiralPlotter"
   ]
  },
  {
   "cell_type": "code",
   "execution_count": null,
   "id": "6003371f",
   "metadata": {},
   "outputs": [],
   "source": [
    "soln=SpiralPlotter()\n",
    "#N=range(3, 26)\n",
    "#N=[12]\n",
    "N=[3,4,6,8,11,12,13,25,26,27,36,60,68,69,72,73,101]\n",
    "YIELD_FORWARD_ONLY=False\n",
    "PLOT=True\n",
    "SCATTER=True\n",
    "LENGTH_OVERRIDE=None\n",
    "TITLE_OVERRIDE=None"
   ]
  },
  {
   "cell_type": "code",
   "execution_count": null,
   "id": "03212ce6",
   "metadata": {
    "scrolled": false
   },
   "outputs": [],
   "source": [
    "# plots n-sided \"spirals\"\n",
    "for n in N:\n",
    "    l=n**2 if n > 6 else n**2.7+1\n",
    "    l=l if not LENGTH_OVERRIDE else LENGTH_OVERRIDE\n",
    "    v=[e for e in soln.spiral(n, l, yield_forward_only=YIELD_FORWARD_ONLY)]\n",
    "    soln.plot_spiral(n, v, plot=PLOT, scatter=SCATTER, title=TITLE_OVERRIDE)"
   ]
  }
 ],
 "metadata": {
  "kernelspec": {
   "display_name": "Python 3",
   "language": "python",
   "name": "python3"
  },
  "language_info": {
   "codemirror_mode": {
    "name": "ipython",
    "version": 3
   },
   "file_extension": ".py",
   "mimetype": "text/x-python",
   "name": "python",
   "nbconvert_exporter": "python",
   "pygments_lexer": "ipython3",
   "version": "3.7.4"
  }
 },
 "nbformat": 4,
 "nbformat_minor": 5
}
