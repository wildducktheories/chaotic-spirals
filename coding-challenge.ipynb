{
 "cells": [
  {
   "cell_type": "code",
   "execution_count": null,
   "metadata": {},
   "outputs": [],
   "source": [
    "import math\n",
    "import matplotlib.pyplot as plt\n",
    "import numpy as np\n",
    "\n",
    "from spirals import SpiralPlotter"
   ]
  },
  {
   "cell_type": "code",
   "execution_count": null,
   "metadata": {},
   "outputs": [],
   "source": [
    "# Edit this class to provide correct implementations of the overridden methods listed here.\n",
    "#\n",
    "# Hints:\n",
    "#   - most methods, except perhaps I, are implemented with a simple expression on a single line\n",
    "#   - most methods (except SUCC_V) are pure functions of their arguments and do not depend on self\n",
    "#   - all expressions in the return statement are incorrect, but indicate how\n",
    "#.    the return type relates to the argument types\n",
    "class CandidateSolution(SpiralPlotter):\n",
    "    \n",
    "    def I(self, n):\n",
    "        \"\"\"This method needs to provide values to initialize the variables of the main loop\"\"\"\n",
    "        return ((0,0), None, None, None) # wrong, in particular (0,0) maybe a different type \n",
    "\n",
    "    def XY(self, p):\n",
    "        \"\"\"This method converts a p into a 2-tuple\"\"\"\n",
    "        return p # maybe wrong\n",
    "\n",
    "    def SUCC_V(self, v, xy):\n",
    "        \"\"\"This method mutates v with a xy and then returns the mutated v\"\"\"\n",
    "        return v # wrong\n",
    "\n",
    "    def SUCC_P(self, p, d):\n",
    "        \"\"\"This method produces a new p, given an existing p and a specified d\"\"\"\n",
    "        return p # wrong\n",
    "\n",
    "    def SUCC_D(self, d, r):\n",
    "        \"\"\"This method produces a new d, given an existing d and a specified r\"\"\"\n",
    "        return d # wrong\n",
    "\n",
    "    def C(self, q, v):\n",
    "        \"\"\"This method answers True if a condition relating q and v is true\"\"\"\n",
    "        return False # wrong \n",
    "        \n",
    "    def spiral(self, L, n):\n",
    "        \"\"\"This method is repeated here for ease of reference - a correct solution should\n",
    "        not modify this method.\"\"\"\n",
    "        P,D,R,V=self.I(n)\n",
    "\n",
    "        while L > 0:\n",
    "            L = L -1\n",
    "\n",
    "            xy = self.XY(P)\n",
    "            V = self.SUCC_V(V, xy)\n",
    "            yield xy\n",
    "\n",
    "            P = self.SUCC_P(P, D)\n",
    "\n",
    "            e = self.SUCC_D(D, R)\n",
    "            q = self.SUCC_P(P, e)\n",
    "\n",
    "            if not self.C(self.XY(q), V):\n",
    "                D = e        "
   ]
  },
  {
   "cell_type": "code",
   "execution_count": null,
   "metadata": {},
   "outputs": [],
   "source": [
    "# instantiate the candidate solution\n",
    "\n",
    "soln = CandidateSolution()"
   ]
  },
  {
   "cell_type": "code",
   "execution_count": null,
   "metadata": {},
   "outputs": [],
   "source": [
    "# when the hidden solution is published, uncomment the lines below to use it instead of the candidate solutiopn\n",
    "\n",
    "#from spirals.HiddenSolution import HiddenSolution\n",
    "#soln=HiddenSolution()"
   ]
  },
  {
   "cell_type": "code",
   "execution_count": null,
   "metadata": {
    "scrolled": false
   },
   "outputs": [],
   "source": [
    "for n in range(3, 22):\n",
    "    l=n**2 if n > 6 else n**2.7+1\n",
    "    soln.plot_spiral(n, soln.spiral(l, n=n))"
   ]
  },
  {
   "cell_type": "code",
   "execution_count": null,
   "metadata": {},
   "outputs": [],
   "source": []
  }
 ],
 "metadata": {
  "kernelspec": {
   "display_name": "Python 3",
   "language": "python",
   "name": "python3"
  },
  "language_info": {
   "codemirror_mode": {
    "name": "ipython",
    "version": 3
   },
   "file_extension": ".py",
   "mimetype": "text/x-python",
   "name": "python",
   "nbconvert_exporter": "python",
   "pygments_lexer": "ipython3",
   "version": "3.9.4"
  }
 },
 "nbformat": 4,
 "nbformat_minor": 5
}
