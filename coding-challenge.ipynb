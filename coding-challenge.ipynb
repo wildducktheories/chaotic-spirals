{
 "cells": [
  {
   "cell_type": "code",
   "execution_count": null,
   "metadata": {},
   "outputs": [],
   "source": [
    "import math\n",
    "import matplotlib.pyplot as plt\n",
    "import numpy as np\n",
    "\n",
    "from spirals import SpiralPlotter"
   ]
  },
  {
   "cell_type": "code",
   "execution_count": null,
   "metadata": {},
   "outputs": [],
   "source": [
    "soln=SpiralPlotter()\n",
    "#N=range(3, 12)\n",
    "N=[3,4,6,8,11,12,13,36,60,68,69,72,73,101]\n",
    "YIELD_FORWARD_ONLY=False\n",
    "PLOT=True\n",
    "SCATTER=True"
   ]
  },
  {
   "cell_type": "code",
   "execution_count": null,
   "metadata": {
    "scrolled": false
   },
   "outputs": [],
   "source": [
    "# plots n-sided \"spirals\"\n",
    "for n in N:\n",
    "    l=n**2 if n > 6 else n**2.7+1\n",
    "    v=[e for e in soln.spiral(n, l, yield_forward_only=YIELD_FORWARD_ONLY)]\n",
    "    soln.plot_spiral(n, v, plot=PLOT, scatter=SCATTER)"
   ]
  },
  {
   "cell_type": "code",
   "execution_count": null,
   "metadata": {},
   "outputs": [],
   "source": []
  }
 ],
 "metadata": {
  "kernelspec": {
   "display_name": "Python 3",
   "language": "python",
   "name": "python3"
  },
  "language_info": {
   "codemirror_mode": {
    "name": "ipython",
    "version": 3
   },
   "file_extension": ".py",
   "mimetype": "text/x-python",
   "name": "python",
   "nbconvert_exporter": "python",
   "pygments_lexer": "ipython3",
   "version": "3.9.4"
  }
 },
 "nbformat": 4,
 "nbformat_minor": 5
}
